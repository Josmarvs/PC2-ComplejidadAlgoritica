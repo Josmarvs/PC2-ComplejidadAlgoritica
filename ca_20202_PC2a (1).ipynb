{
  "nbformat": 4,
  "nbformat_minor": 0,
  "metadata": {
    "colab": {
      "name": "ca 20202 PC2a.ipynb",
      "provenance": [],
      "collapsed_sections": []
    },
    "kernelspec": {
      "name": "python3",
      "display_name": "Python 3"
    }
  },
  "cells": [
    {
      "cell_type": "markdown",
      "metadata": {
        "id": "xhNEKNPAF8kD"
      },
      "source": [
        "|![UPC](https://www.upc.edu.pe/static/img/logo_upc_red.png)\n",
        " :-: \n",
        "<h1>Complejidad Algorítmica</h1>\n",
        "<h6>Práctica Calificada 2</h6>\n",
        "\n",
        "Key|Value\n",
        "- | -\n",
        "Sección  | WV71\n",
        "Profesor | Luis Martín Canaval Sánchez\n",
        "Inicio   | 17:09:59\n",
        "Fin      | 18:59:59\n",
        "Duración | 110 minutos\n",
        "\n",
        "## Instrucciones\n",
        "* <font color=\"red\">La evaluación es estrictamente individual, plagio es inaceptable en cualquier entorno académico y es una violación de carácter grave al [reglamento de disciplina de alumnos de la UPC](https://sica.upc.edu.pe/categoria/reglamentos-upc/sica-reg-26-reglamento-de-disciplina-de-alumnos). Si parte o todas sus respuestas son identificadas como plagio, usted perderá todo el puntaje por la evaluación. Sanciones disciplinarias pueden aplicar según el reglamento antes mencionado.</font>\n",
        "* Debe hacer una copia de éste código a su própia cuenta, según instrucciones del profesor.\n",
        "* Solamente debe modificar el notebook en las celdas indicadas, no modifique ninguna otra celda de lo contrario podría no realizarce la calificación correctamente y perdería su puntaje.\n",
        "* Puede desarrollar las preguntas de programación directamente en éste notebook o puede copiar el código python a la herramienta de su preferencia, en cuyo caso, luego de quedar satisfecho con su respuesta, deberá copiar nuevamente su respuesta en las celdas que correspondan.\n",
        "* Las preguntas para responder, deberá responderlas en el mismo notebook.\n",
        "* Al finalizar, deberá descargar el notebook tal cual (en formato ipynb) de acuerdo a las isntrucciones del profesor y subir al ítem correspondiente a la evaluación en el Aula Virtual.\n",
        "* Soluciones misteriosas o supuestas invalidan su respuesta.\n",
        "* Respuestas con errores de compilación obtendrán como máximo la mitad del puntaje.\n",
        "* Para poder iniciar, debe colocar código sin la 'u' en el campo **TIU**\n",
        "de la sección **Configuración** y luego ejecutar el notebook completo."
      ]
    },
    {
      "cell_type": "markdown",
      "metadata": {
        "id": "5ITwfZv4G2Cr"
      },
      "source": [
        "# Pregunta 1\n",
        "Considere un laberinto representado por un arreglo bidimensional de numeros comprendidos entre 0 y 9, com ose muestra a continuación.\n",
        "\n",
        "<!-- --> |<!-- --> |<!-- --> |<!-- --> |<!-- --> \n",
        "-|-|-|-|-\n",
        "0|3|1|2|9\n",
        "7|3|4|9|9\n",
        "1|7|5|5|3\n",
        "2|3|4|2|5\n",
        "\n",
        "El rompecabezas puede ser atravezada en cualquier dirección ortogonal (norte, sur, este y oeste). Considerando que cada celda representa un costo, encuentre el cósto mínimo para atravezar el laberinto desde un punto de entrada a un punto de salida.\n",
        "\n",
        "## Input\n",
        "La entrada consiste de varios laberintos, El primer dato es un entero positivo que define el numero de laberintos a continuación. Cada laberinto está definido por un par de números N y M que están uno por fila, luego siguen N filas con M números que componen cada laberinto.\n",
        "\n",
        "## Output\n",
        "Por cada laberinto se mostrará un alínea indicando el valor mínimo para atravezar el laberinto.\n",
        "\n",
        "### Ejemplo de Input\n",
        "\n",
        "    2\n",
        "    4\n",
        "    5\n",
        "    0 3 1 2 9\n",
        "    7 3 4 9 9\n",
        "    1 7 5 5 3\n",
        "    2 3 4 2 5\n",
        "    1\n",
        "    6\n",
        "    0 1 2 3 4 5\n",
        "\n",
        "### Ejemmplo de output\n",
        "\n",
        "    24\n",
        "    15\n",
        "\n",
        "\n",
        "<font color=\"Orangered\">Un archivo de pruba</font>"
      ]
    },
    {
      "cell_type": "code",
      "metadata": {
        "id": "kICuuWxfGis5"
      },
      "source": [
        "%%file 1.in\n",
        "2\n",
        "4\n",
        "5\n",
        "0 3 1 2 9\n",
        "7 3 4 9 9\n",
        "1 7 5 5 3\n",
        "2 3 4 2 5\n",
        "1\n",
        "6\n",
        "0 1 2 3 4 5"
      ],
      "execution_count": null,
      "outputs": []
    },
    {
      "cell_type": "markdown",
      "metadata": {
        "id": "gjNqFJlrG8Vd"
      },
      "source": [
        "<font color=\"Orangered\">Tu solución en la celda siguiente</font>"
      ]
    },
    {
      "cell_type": "code",
      "metadata": {
        "id": "J1ds9W5GGRKf"
      },
      "source": [
        "%%file 1.py\n",
        "#Tu solución aquí"
      ],
      "execution_count": null,
      "outputs": []
    },
    {
      "cell_type": "code",
      "metadata": {
        "colab": {
          "base_uri": "https://localhost:8080/",
          "height": 527
        },
        "id": "m4WHl-mzc_iR",
        "outputId": "5582027f-bcaf-4c7c-e547-762b87096138"
      },
      "source": [
        "nu = int(input())\n",
        "s = [int(x) for x in input().split()]\n",
        "\n",
        "pun = [-1] * nu\n",
        "llink = [i for i in range(n)]\n",
        "rlink = llink.copy()\n",
        "\n",
        "def encontrar(x):\n",
        "\tif pun[x] == -1: return x\n",
        "\tpun[x] = encontrar(pun[x])\n",
        "\treturn pun[x]\n",
        "\n",
        "def unir(n, m): \n",
        "\ti = rlink[n] + 1\n",
        "\tu = encontrar(n)\n",
        "\twhile i <= m:\n",
        "\t\tvec = encontrar(i)\n",
        "\t\tif u != vec: \n",
        "\t\t\ts[u] += s[vec]\n",
        "\t\t\tmlink[u] = max(mlink[u], mlink[v])\n",
        "\t\t\tnlink[u] = min(nlink[u], nlink[v])\n",
        "\t\t\tpun[vec] = u\n",
        "\t\ti = mlink[u] + 1\n",
        "\n",
        "d = int(input())\n",
        "\n",
        "ans = 0\n",
        "while d > 0:\n",
        "\td -= 1\n",
        "\tn, m, vec = map(int, input().split())\n",
        "\tn -= 1\n",
        "\tm -= 1\n",
        "\tunir(n, m)\n",
        "\tu = encontrar(n)\n",
        "\tans += min(vec, s[u])\n",
        "\ts[u] -= min(vec, s[u])\n",
        "print(ans)"
      ],
      "execution_count": 1,
      "outputs": [
        {
          "output_type": "error",
          "ename": "KeyboardInterrupt",
          "evalue": "ignored",
          "traceback": [
            "\u001b[0;31m---------------------------------------------------------------------------\u001b[0m",
            "\u001b[0;31mKeyboardInterrupt\u001b[0m                         Traceback (most recent call last)",
            "\u001b[0;32m/usr/local/lib/python3.6/dist-packages/ipykernel/kernelbase.py\u001b[0m in \u001b[0;36m_input_request\u001b[0;34m(self, prompt, ident, parent, password)\u001b[0m\n\u001b[1;32m    728\u001b[0m             \u001b[0;32mtry\u001b[0m\u001b[0;34m:\u001b[0m\u001b[0;34m\u001b[0m\u001b[0;34m\u001b[0m\u001b[0m\n\u001b[0;32m--> 729\u001b[0;31m                 \u001b[0mident\u001b[0m\u001b[0;34m,\u001b[0m \u001b[0mreply\u001b[0m \u001b[0;34m=\u001b[0m \u001b[0mself\u001b[0m\u001b[0;34m.\u001b[0m\u001b[0msession\u001b[0m\u001b[0;34m.\u001b[0m\u001b[0mrecv\u001b[0m\u001b[0;34m(\u001b[0m\u001b[0mself\u001b[0m\u001b[0;34m.\u001b[0m\u001b[0mstdin_socket\u001b[0m\u001b[0;34m,\u001b[0m \u001b[0;36m0\u001b[0m\u001b[0;34m)\u001b[0m\u001b[0;34m\u001b[0m\u001b[0;34m\u001b[0m\u001b[0m\n\u001b[0m\u001b[1;32m    730\u001b[0m             \u001b[0;32mexcept\u001b[0m \u001b[0mException\u001b[0m\u001b[0;34m:\u001b[0m\u001b[0;34m\u001b[0m\u001b[0;34m\u001b[0m\u001b[0m\n",
            "\u001b[0;32m/usr/local/lib/python3.6/dist-packages/jupyter_client/session.py\u001b[0m in \u001b[0;36mrecv\u001b[0;34m(self, socket, mode, content, copy)\u001b[0m\n\u001b[1;32m    802\u001b[0m         \u001b[0;32mtry\u001b[0m\u001b[0;34m:\u001b[0m\u001b[0;34m\u001b[0m\u001b[0;34m\u001b[0m\u001b[0m\n\u001b[0;32m--> 803\u001b[0;31m             \u001b[0mmsg_list\u001b[0m \u001b[0;34m=\u001b[0m \u001b[0msocket\u001b[0m\u001b[0;34m.\u001b[0m\u001b[0mrecv_multipart\u001b[0m\u001b[0;34m(\u001b[0m\u001b[0mmode\u001b[0m\u001b[0;34m,\u001b[0m \u001b[0mcopy\u001b[0m\u001b[0;34m=\u001b[0m\u001b[0mcopy\u001b[0m\u001b[0;34m)\u001b[0m\u001b[0;34m\u001b[0m\u001b[0;34m\u001b[0m\u001b[0m\n\u001b[0m\u001b[1;32m    804\u001b[0m         \u001b[0;32mexcept\u001b[0m \u001b[0mzmq\u001b[0m\u001b[0;34m.\u001b[0m\u001b[0mZMQError\u001b[0m \u001b[0;32mas\u001b[0m \u001b[0me\u001b[0m\u001b[0;34m:\u001b[0m\u001b[0;34m\u001b[0m\u001b[0;34m\u001b[0m\u001b[0m\n",
            "\u001b[0;32m/usr/local/lib/python3.6/dist-packages/zmq/sugar/socket.py\u001b[0m in \u001b[0;36mrecv_multipart\u001b[0;34m(self, flags, copy, track)\u001b[0m\n\u001b[1;32m    565\u001b[0m         \"\"\"\n\u001b[0;32m--> 566\u001b[0;31m         \u001b[0mparts\u001b[0m \u001b[0;34m=\u001b[0m \u001b[0;34m[\u001b[0m\u001b[0mself\u001b[0m\u001b[0;34m.\u001b[0m\u001b[0mrecv\u001b[0m\u001b[0;34m(\u001b[0m\u001b[0mflags\u001b[0m\u001b[0;34m,\u001b[0m \u001b[0mcopy\u001b[0m\u001b[0;34m=\u001b[0m\u001b[0mcopy\u001b[0m\u001b[0;34m,\u001b[0m \u001b[0mtrack\u001b[0m\u001b[0;34m=\u001b[0m\u001b[0mtrack\u001b[0m\u001b[0;34m)\u001b[0m\u001b[0;34m]\u001b[0m\u001b[0;34m\u001b[0m\u001b[0;34m\u001b[0m\u001b[0m\n\u001b[0m\u001b[1;32m    567\u001b[0m         \u001b[0;31m# have first part already, only loop while more to receive\u001b[0m\u001b[0;34m\u001b[0m\u001b[0;34m\u001b[0m\u001b[0;34m\u001b[0m\u001b[0m\n",
            "\u001b[0;32mzmq/backend/cython/socket.pyx\u001b[0m in \u001b[0;36mzmq.backend.cython.socket.Socket.recv\u001b[0;34m()\u001b[0m\n",
            "\u001b[0;32mzmq/backend/cython/socket.pyx\u001b[0m in \u001b[0;36mzmq.backend.cython.socket.Socket.recv\u001b[0;34m()\u001b[0m\n",
            "\u001b[0;32mzmq/backend/cython/socket.pyx\u001b[0m in \u001b[0;36mzmq.backend.cython.socket._recv_copy\u001b[0;34m()\u001b[0m\n",
            "\u001b[0;32m/usr/local/lib/python3.6/dist-packages/zmq/backend/cython/checkrc.pxd\u001b[0m in \u001b[0;36mzmq.backend.cython.checkrc._check_rc\u001b[0;34m()\u001b[0m\n",
            "\u001b[0;31mKeyboardInterrupt\u001b[0m: ",
            "\nDuring handling of the above exception, another exception occurred:\n",
            "\u001b[0;31mKeyboardInterrupt\u001b[0m                         Traceback (most recent call last)",
            "\u001b[0;32m<ipython-input-1-32ee75f75d6c>\u001b[0m in \u001b[0;36m<module>\u001b[0;34m()\u001b[0m\n\u001b[0;32m----> 1\u001b[0;31m \u001b[0mn\u001b[0m \u001b[0;34m=\u001b[0m \u001b[0mint\u001b[0m\u001b[0;34m(\u001b[0m\u001b[0minput\u001b[0m\u001b[0;34m(\u001b[0m\u001b[0;34m)\u001b[0m\u001b[0;34m)\u001b[0m\u001b[0;34m\u001b[0m\u001b[0;34m\u001b[0m\u001b[0m\n\u001b[0m\u001b[1;32m      2\u001b[0m \u001b[0ms\u001b[0m \u001b[0;34m=\u001b[0m \u001b[0;34m[\u001b[0m\u001b[0mint\u001b[0m\u001b[0;34m(\u001b[0m\u001b[0mx\u001b[0m\u001b[0;34m)\u001b[0m \u001b[0;32mfor\u001b[0m \u001b[0mx\u001b[0m \u001b[0;32min\u001b[0m \u001b[0minput\u001b[0m\u001b[0;34m(\u001b[0m\u001b[0;34m)\u001b[0m\u001b[0;34m.\u001b[0m\u001b[0msplit\u001b[0m\u001b[0;34m(\u001b[0m\u001b[0;34m)\u001b[0m\u001b[0;34m]\u001b[0m\u001b[0;34m\u001b[0m\u001b[0;34m\u001b[0m\u001b[0m\n\u001b[1;32m      3\u001b[0m \u001b[0;34m\u001b[0m\u001b[0m\n\u001b[1;32m      4\u001b[0m \u001b[0mpun\u001b[0m \u001b[0;34m=\u001b[0m \u001b[0;34m[\u001b[0m\u001b[0;34m-\u001b[0m\u001b[0;36m1\u001b[0m\u001b[0;34m]\u001b[0m \u001b[0;34m*\u001b[0m \u001b[0mn\u001b[0m\u001b[0;34m\u001b[0m\u001b[0;34m\u001b[0m\u001b[0m\n\u001b[1;32m      5\u001b[0m \u001b[0mllink\u001b[0m \u001b[0;34m=\u001b[0m \u001b[0;34m[\u001b[0m\u001b[0mi\u001b[0m \u001b[0;32mfor\u001b[0m \u001b[0mi\u001b[0m \u001b[0;32min\u001b[0m \u001b[0mrange\u001b[0m\u001b[0;34m(\u001b[0m\u001b[0mn\u001b[0m\u001b[0;34m)\u001b[0m\u001b[0;34m]\u001b[0m\u001b[0;34m\u001b[0m\u001b[0;34m\u001b[0m\u001b[0m\n",
            "\u001b[0;32m/usr/local/lib/python3.6/dist-packages/ipykernel/kernelbase.py\u001b[0m in \u001b[0;36mraw_input\u001b[0;34m(self, prompt)\u001b[0m\n\u001b[1;32m    702\u001b[0m             \u001b[0mself\u001b[0m\u001b[0;34m.\u001b[0m\u001b[0m_parent_ident\u001b[0m\u001b[0;34m,\u001b[0m\u001b[0;34m\u001b[0m\u001b[0;34m\u001b[0m\u001b[0m\n\u001b[1;32m    703\u001b[0m             \u001b[0mself\u001b[0m\u001b[0;34m.\u001b[0m\u001b[0m_parent_header\u001b[0m\u001b[0;34m,\u001b[0m\u001b[0;34m\u001b[0m\u001b[0;34m\u001b[0m\u001b[0m\n\u001b[0;32m--> 704\u001b[0;31m             \u001b[0mpassword\u001b[0m\u001b[0;34m=\u001b[0m\u001b[0;32mFalse\u001b[0m\u001b[0;34m,\u001b[0m\u001b[0;34m\u001b[0m\u001b[0;34m\u001b[0m\u001b[0m\n\u001b[0m\u001b[1;32m    705\u001b[0m         )\n\u001b[1;32m    706\u001b[0m \u001b[0;34m\u001b[0m\u001b[0m\n",
            "\u001b[0;32m/usr/local/lib/python3.6/dist-packages/ipykernel/kernelbase.py\u001b[0m in \u001b[0;36m_input_request\u001b[0;34m(self, prompt, ident, parent, password)\u001b[0m\n\u001b[1;32m    732\u001b[0m             \u001b[0;32mexcept\u001b[0m \u001b[0mKeyboardInterrupt\u001b[0m\u001b[0;34m:\u001b[0m\u001b[0;34m\u001b[0m\u001b[0;34m\u001b[0m\u001b[0m\n\u001b[1;32m    733\u001b[0m                 \u001b[0;31m# re-raise KeyboardInterrupt, to truncate traceback\u001b[0m\u001b[0;34m\u001b[0m\u001b[0;34m\u001b[0m\u001b[0;34m\u001b[0m\u001b[0m\n\u001b[0;32m--> 734\u001b[0;31m                 \u001b[0;32mraise\u001b[0m \u001b[0mKeyboardInterrupt\u001b[0m\u001b[0;34m\u001b[0m\u001b[0;34m\u001b[0m\u001b[0m\n\u001b[0m\u001b[1;32m    735\u001b[0m             \u001b[0;32melse\u001b[0m\u001b[0;34m:\u001b[0m\u001b[0;34m\u001b[0m\u001b[0;34m\u001b[0m\u001b[0m\n\u001b[1;32m    736\u001b[0m                 \u001b[0;32mbreak\u001b[0m\u001b[0;34m\u001b[0m\u001b[0;34m\u001b[0m\u001b[0m\n",
            "\u001b[0;31mKeyboardInterrupt\u001b[0m: "
          ]
        }
      ]
    },
    {
      "cell_type": "markdown",
      "metadata": {
        "id": "FJ3rmVjRGqPQ"
      },
      "source": [
        "<font color=\"Orangered\">Puede ejecutar la celda a continuación para probar su código</font>"
      ]
    },
    {
      "cell_type": "code",
      "metadata": {
        "id": "DO0yKw3pGm7t"
      },
      "source": [
        "!python 1.py < 1.in"
      ],
      "execution_count": null,
      "outputs": []
    },
    {
      "cell_type": "markdown",
      "metadata": {
        "id": "eXEJurc4JZdz"
      },
      "source": [
        "# Pregunta 2\n",
        "Gonzalo Moriarty y Marcelo Holmes estan tratando de escapar de los examenes finales y han conseguido muchas piezas de combis y buses de la empresa orion que usan para construir vehiculos minimamente funcionales que pueden andar por **Q** días antes de explotar. Pueden recorrer **K** kilometros por día como máximo. Ellos quieren llegar a un escondite particular pero por las limitaciones deben navegar por varios de los mencionados escondites antes de llegar al deseado (los escodites son almacenes circulares grandes dentro de los cuales pueden recorrer libremente) y buscar ruta, pero Waze no es muy confiable de modo que solo extraen las coordenadas y trazan su ruta ellos solos.\n",
        "\n",
        "## Input\n",
        "La primera línea contiene Q y K como se menciona en el problema, la segunda línea contiene 3 enteros X, Y y R. X y Y son las coordenadas de la del escondite actual y R es el radio del escondite. La tercera línea contiene 3 enteros en el mismo formato anterior con la información del escondite al cual quieren dirigirse.\n",
        "Luego tienen un entero N seguido de N líneas que contienen 2 números cada uno que son Xi, Yi y Ri representando las coordenadas y radio de los otros escondites en kilómetros. N será como máximo 100.\n",
        "No hay islas que se intersecten entre sí y todos los valoes serán menores a 200.\n",
        "\n",
        "## Output\n",
        "Por cada caso de prueba, mostrar:\n",
        "\n",
        "`Gonzalo y Marcelo escaparon`\n",
        "\n",
        "si pueden llegar a su escondite escogido.\n",
        "\n",
        "`Gonzalo y Marcelo tuvieron que rendir sus finales como valientes`\n",
        "\n",
        "Si no logran escapar.\n",
        "\n",
        "\n",
        "### Ejemplo de Input\n",
        "\n",
        "    1 1\n",
        "    0 0 1\n",
        "    0 3 1\n",
        "    0\n",
        "    1 1\n",
        "    0 0 1\n",
        "    0 5 1\n",
        "    0\n",
        "    1 1\n",
        "    0 0 1\n",
        "    0 6 1\n",
        "    1\n",
        "    0 3 1\n",
        "\n",
        "### Ejemmplo de output\n",
        "    \n",
        "    Gonzalo y Marcelo escaparon\n",
        "    Gonzalo y Marcelo tuvieron que rendir sus finales como valientes\n",
        "    Gonzalo y Marcelo escaparon\n",
        "\n",
        "\n",
        "<font color=\"Orangered\">Un archivo de prueba</font>"
      ]
    },
    {
      "cell_type": "code",
      "metadata": {
        "id": "_1x51itnPcXU"
      },
      "source": [
        "%%file 2.in\n",
        "1 1\n",
        "0 0 1\n",
        "0 3 1\n",
        "0\n",
        "1 1\n",
        "0 0 1\n",
        "0 5 1\n",
        "0\n",
        "1 1\n",
        "0 0 1\n",
        "0 6 1\n",
        "1\n",
        "0 3 1"
      ],
      "execution_count": null,
      "outputs": []
    },
    {
      "cell_type": "markdown",
      "metadata": {
        "id": "8aoyUGuBPuur"
      },
      "source": [
        "<font color=\"Orangered\">Tu solución en la celda siguiente</font>"
      ]
    },
    {
      "cell_type": "code",
      "metadata": {
        "id": "ozLmPYTgPn0e"
      },
      "source": [
        "%%file 2.py\n",
        "#Tu solución aquí"
      ],
      "execution_count": null,
      "outputs": []
    },
    {
      "cell_type": "code",
      "metadata": {
        "id": "wfSR6It8jPEB"
      },
      "source": [
        "nc = int(input())\n",
        "circle_params = [] \n",
        "coordinat_list = []\n",
        "main_list = []\n",
        "for c in range(nc):\n",
        "    cinput = input()\n",
        "    cpar = [int(n) for n in cinput.split(\" \")]\n",
        "    circle_params.append(cpar)\n",
        " \n",
        "cnt = 0\n",
        "for x in range(1,1001):\n",
        "    for y in range(1,1001):\n",
        "        f = 0\n",
        "        for c in circle_params:\n",
        "            d = (x-c[0]) 2+(y-c[1]) 2-c[2]** 2\n",
        "            if d <= 0:\n",
        "                          f += 1\n",
        "            if f >=2:\n",
        "                cnt += 1\n",
        "                break\n",
        "print(cnt)"
      ],
      "execution_count": null,
      "outputs": []
    },
    {
      "cell_type": "markdown",
      "metadata": {
        "id": "HlXiSF1rPyS_"
      },
      "source": [
        "<font color=\"Orangered\">Puede ejecutar la celda a continuación para probar su código</font>"
      ]
    },
    {
      "cell_type": "code",
      "metadata": {
        "id": "ZYlKA_rBPypG"
      },
      "source": [
        "!python 2.py < 2.in"
      ],
      "execution_count": null,
      "outputs": []
    }
  ]
}